{
 "cells": [
  {
   "cell_type": "code",
   "execution_count": 1,
   "id": "8885be29",
   "metadata": {},
   "outputs": [],
   "source": [
    "import numpy as nb\n",
    "import pandas as pd\n",
    "import matplotlib.pyplot as plt\n",
    "import seaborn as sns"
   ]
  },
  {
   "cell_type": "code",
   "execution_count": 2,
   "id": "1c521f2d",
   "metadata": {},
   "outputs": [],
   "source": [
    "df = pd.read_csv(\"D:\\Projects\\Tempurature Anomalies Prediction/Northern Hemisphere Monthly Temperature 1880-2022.csv\",sep=\",\",encoding=\"utf-8\")"
   ]
  },
  {
   "cell_type": "code",
   "execution_count": 3,
   "id": "256035af",
   "metadata": {},
   "outputs": [
    {
     "data": {
      "text/html": [
       "<div>\n",
       "<style scoped>\n",
       "    .dataframe tbody tr th:only-of-type {\n",
       "        vertical-align: middle;\n",
       "    }\n",
       "\n",
       "    .dataframe tbody tr th {\n",
       "        vertical-align: top;\n",
       "    }\n",
       "\n",
       "    .dataframe thead th {\n",
       "        text-align: right;\n",
       "    }\n",
       "</style>\n",
       "<table border=\"1\" class=\"dataframe\">\n",
       "  <thead>\n",
       "    <tr style=\"text-align: right;\">\n",
       "      <th></th>\n",
       "      <th>Year</th>\n",
       "      <th>Month</th>\n",
       "      <th>Temperature</th>\n",
       "    </tr>\n",
       "  </thead>\n",
       "  <tbody>\n",
       "    <tr>\n",
       "      <th>0</th>\n",
       "      <td>1880</td>\n",
       "      <td>1</td>\n",
       "      <td>-0.36</td>\n",
       "    </tr>\n",
       "    <tr>\n",
       "      <th>1</th>\n",
       "      <td>1881</td>\n",
       "      <td>1</td>\n",
       "      <td>-0.31</td>\n",
       "    </tr>\n",
       "    <tr>\n",
       "      <th>2</th>\n",
       "      <td>1882</td>\n",
       "      <td>1</td>\n",
       "      <td>0.26</td>\n",
       "    </tr>\n",
       "    <tr>\n",
       "      <th>3</th>\n",
       "      <td>1883</td>\n",
       "      <td>1</td>\n",
       "      <td>-0.58</td>\n",
       "    </tr>\n",
       "    <tr>\n",
       "      <th>4</th>\n",
       "      <td>1884</td>\n",
       "      <td>1</td>\n",
       "      <td>-0.17</td>\n",
       "    </tr>\n",
       "  </tbody>\n",
       "</table>\n",
       "</div>"
      ],
      "text/plain": [
       "   Year  Month  Temperature\n",
       "0  1880      1        -0.36\n",
       "1  1881      1        -0.31\n",
       "2  1882      1         0.26\n",
       "3  1883      1        -0.58\n",
       "4  1884      1        -0.17"
      ]
     },
     "execution_count": 3,
     "metadata": {},
     "output_type": "execute_result"
    }
   ],
   "source": [
    "df.head()"
   ]
  },
  {
   "cell_type": "code",
   "execution_count": 4,
   "id": "02908449",
   "metadata": {},
   "outputs": [
    {
     "name": "stdout",
     "output_type": "stream",
     "text": [
      "<class 'pandas.core.frame.DataFrame'>\n",
      "RangeIndex: 1716 entries, 0 to 1715\n",
      "Data columns (total 3 columns):\n",
      " #   Column       Non-Null Count  Dtype  \n",
      "---  ------       --------------  -----  \n",
      " 0   Year         1716 non-null   int64  \n",
      " 1   Month        1716 non-null   int64  \n",
      " 2   Temperature  1716 non-null   float64\n",
      "dtypes: float64(1), int64(2)\n",
      "memory usage: 40.3 KB\n"
     ]
    }
   ],
   "source": [
    "df.info()"
   ]
  },
  {
   "cell_type": "code",
   "execution_count": 5,
   "id": "1bf08e29",
   "metadata": {},
   "outputs": [
    {
     "data": {
      "text/plain": [
       "count    1716.000000\n",
       "mean        0.086603\n",
       "std         0.475834\n",
       "min        -1.510000\n",
       "25%        -0.240000\n",
       "50%         0.000000\n",
       "75%         0.320000\n",
       "max         1.940000\n",
       "Name: Temperature, dtype: float64"
      ]
     },
     "execution_count": 5,
     "metadata": {},
     "output_type": "execute_result"
    }
   ],
   "source": [
    "df[\"Temperature\"].describe()"
   ]
  },
  {
   "cell_type": "code",
   "execution_count": 6,
   "id": "4d455f73",
   "metadata": {},
   "outputs": [
    {
     "data": {
      "text/plain": [
       "count    1716.000000\n",
       "mean        0.086603\n",
       "std         0.475834\n",
       "min        -1.510000\n",
       "25%        -0.240000\n",
       "50%         0.000000\n",
       "75%         0.320000\n",
       "max         1.940000\n",
       "Name: Temperature, dtype: float64"
      ]
     },
     "execution_count": 6,
     "metadata": {},
     "output_type": "execute_result"
    }
   ],
   "source": [
    "df[\"Temperature\"].describe(include=\"All\")"
   ]
  },
  {
   "cell_type": "code",
   "execution_count": 7,
   "id": "97a94a2f",
   "metadata": {},
   "outputs": [
    {
     "data": {
      "text/plain": [
       "1880    12\n",
       "1978    12\n",
       "1972    12\n",
       "1973    12\n",
       "1974    12\n",
       "        ..\n",
       "1928    12\n",
       "1929    12\n",
       "1930    12\n",
       "1931    12\n",
       "2022    12\n",
       "Name: Year, Length: 143, dtype: int64"
      ]
     },
     "execution_count": 7,
     "metadata": {},
     "output_type": "execute_result"
    }
   ],
   "source": [
    "df[\"Year\"].value_counts()"
   ]
  },
  {
   "cell_type": "code",
   "execution_count": 8,
   "id": "bbb90afc",
   "metadata": {},
   "outputs": [
    {
     "data": {
      "text/plain": [
       "1     143\n",
       "2     143\n",
       "3     143\n",
       "4     143\n",
       "5     143\n",
       "6     143\n",
       "7     143\n",
       "8     143\n",
       "9     143\n",
       "10    143\n",
       "11    143\n",
       "12    143\n",
       "Name: Month, dtype: int64"
      ]
     },
     "execution_count": 8,
     "metadata": {},
     "output_type": "execute_result"
    }
   ],
   "source": [
    "df[\"Month\"].value_counts()"
   ]
  },
  {
   "cell_type": "code",
   "execution_count": 9,
   "id": "45831b8b",
   "metadata": {},
   "outputs": [
    {
     "name": "stderr",
     "output_type": "stream",
     "text": [
      "C:\\Users\\Hepton\\anaconda3\\lib\\site-packages\\seaborn\\_decorators.py:36: FutureWarning: Pass the following variable as a keyword arg: x. From version 0.12, the only valid positional argument will be `data`, and passing other arguments without an explicit keyword will result in an error or misinterpretation.\n",
      "  warnings.warn(\n"
     ]
    },
    {
     "data": {
      "text/plain": [
       "<AxesSubplot:xlabel='Temperature'>"
      ]
     },
     "execution_count": 9,
     "metadata": {},
     "output_type": "execute_result"
    },
    {
     "data": {
      "image/png": "[encoded data removed]",
      "text/plain": [
       "<Figure size 640x480 with 1 Axes>"
      ]
     },
     "metadata": {},
     "output_type": "display_data"
    }
   ],
   "source": [
    "sns.boxplot(df[\"Temperature\"])"
   ]
  },
  {
   "cell_type": "markdown",
   "id": "d482ab4b",
   "metadata": {},
   "source": [
    "## Information"
   ]
  },
  {
   "cell_type": "code",
   "execution_count": 10,
   "id": "c918e666",
   "metadata": {},
   "outputs": [],
   "source": [
    "# Average Anomaly\n",
    "# maximum positive\n",
    "# maximum negative\n",
    "# no. of positive (hot)\n",
    "# no. of negative (cool)\n",
    "# no. of standard"
   ]
  },
  {
   "cell_type": "code",
   "execution_count": 11,
   "id": "7538cd05",
   "metadata": {},
   "outputs": [],
   "source": [
    "def info(month):\n",
    "    pos=neg=stand=0\n",
    "    anomaly=[]\n",
    "    max_pos=[]\n",
    "    max_neg=[]\n",
    "    if month == \"January\":\n",
    "        mon=1\n",
    "    elif month == \"February\":\n",
    "        mon=2\n",
    "    elif month == \"March\":\n",
    "        mon=3\n",
    "    elif month == \"April\":\n",
    "        mon=4\n",
    "    elif month == \"May\":\n",
    "        mon=5\n",
    "    elif month == \"June\":\n",
    "        mon=6\n",
    "    elif month == \"July\":\n",
    "        mon=7\n",
    "    elif month == \"August\":\n",
    "        mon=8\n",
    "    elif month == \"September\":\n",
    "        mon=9\n",
    "    elif month == \"October\":\n",
    "        mon=10\n",
    "    elif month == \"November\":\n",
    "        mon=11\n",
    "    elif month == \"December\":\n",
    "        mon=12\n",
    "    else:\n",
    "        mon=\"error_month\"\n",
    "    if mon==\"error_month\":\n",
    "        print(\"The Month Spelling Is Error\")\n",
    "    else:\n",
    "        for i in range(1716):\n",
    "            if(df[\"Month\"][i]==mon):\n",
    "                anomaly.append(df[\"Temperature\"][i])\n",
    "                if (df[\"Month\"][i]==mon and df[\"Temperature\"][i]>0):\n",
    "                    pos+=1\n",
    "                    max_pos.append(df[\"Temperature\"][i])\n",
    "                elif (df[\"Month\"][i]==mon and df[\"Temperature\"][i]<0):\n",
    "                    neg+=1\n",
    "                    max_neg.append(abs(df[\"Temperature\"][i]))\n",
    "                elif (df[\"Month\"][i]==mon and df[\"Temperature\"][i]==0):\n",
    "                    stand+=1\n",
    "        print(\"Average Anomalies in \",month,\" \",nb.mean(anomaly))\n",
    "        print(\"no. of Standard Times: \",stand)\n",
    "        print(\"no. of Positive (Hot) Times: \",pos)\n",
    "        print(\"Maximum Positive Anomaly in \",month,\" \",max(max_pos))\n",
    "        print(\"no. of Negative (Cool) Times: \",neg)\n",
    "        print(\"Maximum Negative Anomaly in \",month,\" \",max(max_neg))"
   ]
  },
  {
   "cell_type": "code",
   "execution_count": 31,
   "id": "3164b004",
   "metadata": {},
   "outputs": [
    {
     "name": "stdout",
     "output_type": "stream",
     "text": [
      "March\n",
      "Average Anomalies in  March   0.11531468531468528\n",
      "no. of Standard Times:  5\n",
      "no. of Positive (Hot) Times:  70\n",
      "Maximum Positive Anomaly in  March   1.9\n",
      "no. of Negative (Cool) Times:  68\n",
      "Maximum Negative Anomaly in  March   0.8\n"
     ]
    }
   ],
   "source": [
    "x=input()\n",
    "info(x)"
   ]
  },
  {
   "cell_type": "markdown",
   "id": "19ac0e0a",
   "metadata": {},
   "source": [
    "## Predict"
   ]
  },
  {
   "cell_type": "code",
   "execution_count": 14,
   "id": "55881b52",
   "metadata": {},
   "outputs": [
    {
     "data": {
      "text/plain": [
       "<matplotlib.collections.PathCollection at 0x1f959175340>"
      ]
     },
     "execution_count": 14,
     "metadata": {},
     "output_type": "execute_result"
    },
    {
     "data": {
      "image/png": "[encoded data removed]",
      "text/plain": [
       "<Figure size 640x480 with 1 Axes>"
      ]
     },
     "metadata": {},
     "output_type": "display_data"
    }
   ],
   "source": [
    "plt.scatter(x= df['Year'], y = df['Temperature'])"
   ]
  },
  {
   "cell_type": "code",
   "execution_count": 15,
   "id": "9427005a",
   "metadata": {},
   "outputs": [],
   "source": [
    "x = df.drop(['Temperature'] , axis = 1).values\n",
    "y = df['Temperature'].values"
   ]
  },
  {
   "cell_type": "code",
   "execution_count": 17,
   "id": "baedb1ce",
   "metadata": {},
   "outputs": [],
   "source": [
    "from sklearn.model_selection import train_test_split"
   ]
  },
  {
   "cell_type": "code",
   "execution_count": 18,
   "id": "1fb06ad2",
   "metadata": {},
   "outputs": [],
   "source": [
    "x_train , x_test , y_train , y_test = train_test_split(x,y , test_size = 0.25 , random_state=42)"
   ]
  },
  {
   "cell_type": "code",
   "execution_count": 41,
   "id": "c4a26662",
   "metadata": {},
   "outputs": [],
   "source": [
    "from sklearn.linear_model import LinearRegression\n",
    "reg = LinearRegression()"
   ]
  },
  {
   "cell_type": "code",
   "execution_count": 42,
   "id": "777e0d36",
   "metadata": {},
   "outputs": [
    {
     "data": {
      "text/plain": [
       "LinearRegression()"
      ]
     },
     "execution_count": 42,
     "metadata": {},
     "output_type": "execute_result"
    }
   ],
   "source": [
    "reg.fit(x_train,y_train)"
   ]
  },
  {
   "cell_type": "code",
   "execution_count": 43,
   "id": "dc120fd8",
   "metadata": {},
   "outputs": [
    {
     "data": {
      "text/plain": [
       "0.6385314683391194"
      ]
     },
     "execution_count": 43,
     "metadata": {},
     "output_type": "execute_result"
    }
   ],
   "source": [
    "reg.score(x_train , y_train)"
   ]
  },
  {
   "cell_type": "code",
   "execution_count": 44,
   "id": "4d894a83",
   "metadata": {},
   "outputs": [
    {
     "data": {
      "text/plain": [
       "0.6100112552801191"
      ]
     },
     "execution_count": 44,
     "metadata": {},
     "output_type": "execute_result"
    }
   ],
   "source": [
    "reg.score(x_test,y_test)"
   ]
  },
  {
   "cell_type": "code",
   "execution_count": 45,
   "id": "3c382c98",
   "metadata": {},
   "outputs": [
    {
     "data": {
      "text/plain": [
       "-18.012942661997027"
      ]
     },
     "execution_count": 45,
     "metadata": {},
     "output_type": "execute_result"
    }
   ],
   "source": [
    "reg.intercept_"
   ]
  },
  {
   "cell_type": "code",
   "execution_count": 49,
   "id": "083b7b23",
   "metadata": {},
   "outputs": [
    {
     "data": {
      "text/plain": [
       "array([0.00927531, 0.00066163])"
      ]
     },
     "execution_count": 49,
     "metadata": {},
     "output_type": "execute_result"
    }
   ],
   "source": [
    "reg.coef_"
   ]
  },
  {
   "cell_type": "code",
   "execution_count": 47,
   "id": "6b7dcd10",
   "metadata": {},
   "outputs": [
    {
     "data": {
      "text/plain": [
       "0.7715471984948152"
      ]
     },
     "execution_count": 47,
     "metadata": {},
     "output_type": "execute_result"
    }
   ],
   "source": [
    "reg.predict([[2025,3]])[0]"
   ]
  },
  {
   "cell_type": "code",
   "execution_count": null,
   "id": "fff39d28",
   "metadata": {},
   "outputs": [],
   "source": []
  }
 ],
 "metadata": {
  "kernelspec": {
   "display_name": "Python 3 (ipykernel)",
   "language": "python",
   "name": "python3"
  },
  "language_info": {
   "codemirror_mode": {
    "name": "ipython",
    "version": 3
   },
   "file_extension": ".py",
   "mimetype": "text/x-python",
   "name": "python",
   "nbconvert_exporter": "python",
   "pygments_lexer": "ipython3",
   "version": "3.9.13"
  }
 },
 "nbformat": 4,
 "nbformat_minor": 5
}
