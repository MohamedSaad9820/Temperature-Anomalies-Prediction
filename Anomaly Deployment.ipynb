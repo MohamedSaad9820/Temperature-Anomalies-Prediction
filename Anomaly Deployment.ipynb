{
 "cells": [
  {
   "cell_type": "code",
   "execution_count": null,
   "id": "b931eba4",
   "metadata": {},
   "outputs": [
    {
     "name": "stdout",
     "output_type": "stream",
     "text": [
      " * Serving Flask app \"__main__\" (lazy loading)\n",
      " * Environment: production\n",
      "\u001b[31m   WARNING: This is a development server. Do not use it in a production deployment.\u001b[0m\n",
      "\u001b[2m   Use a production WSGI server instead.\u001b[0m\n",
      " * Debug mode: off\n"
     ]
    },
    {
     "name": "stderr",
     "output_type": "stream",
     "text": [
      " * Running on http://127.0.0.1:5000/ (Press CTRL+C to quit)\n"
     ]
    }
   ],
   "source": [
    "from flask import Flask,jsonify,request\n",
    "from temperature_anomaly import *\n",
    "app      = Flask(__name__)\n",
    "df = get_data()\n",
    "accuracy = train(df)\n",
    "\n",
    "@app.route('/')        ## Homepage\n",
    "def home():\n",
    "    data = {\n",
    "        'name':'Temperature_Anomalies',\n",
    "        'page_name':'الصفحة الرئيسيه'\n",
    "    }\n",
    "    return jsonify(data)\n",
    "\n",
    "@app.route('/train') ## train\n",
    "def fl_train():\n",
    "    accuracy = train(df)\n",
    "    data = {\n",
    "        '1)name':'Temperature_Anomalies'+\"                                                                                                                                                                          \",\n",
    "        '2)result':'Ok'+\"                                                                                                                                                  \",\n",
    "        '3)page_name':'Train'+\"                                                                                                                                            \",\n",
    "        '4)accuracy':str(accuracy)+\"                                                                                                                                                                                                                               \",\n",
    "        '5)Regression_Function ':\"Y=\"+str(round(reg.intercept_,3))+\" + \"+str(round(reg.coef_[0],3))+\"X1\"+\" + \"+str(round(reg.coef_[1],3))+\"X2\"\n",
    "    }\n",
    "    return jsonify(data)\n",
    "\n",
    "@app.route('/predict') ## predict\n",
    "def fl_predict():\n",
    "    y  = request.args[\"y\"]\n",
    "    m  = request.args['m']\n",
    "    year  = int(y)\n",
    "    mon= month(str(m))\n",
    "    accuracy=train(df)\n",
    "    print(m)\n",
    "    print(y)\n",
    "    avg=avg_anom(df,mon)\n",
    "    max_post=max_pos(df,mon)\n",
    "    max_negt=max_neg(df,mon)\n",
    "    num_post=num_pos(df,mon)\n",
    "    num_negt=num_neg(df,mon)\n",
    "    num_standt=num_stand(df,mon)\n",
    "    pred_anom=predict(year,mon)\n",
    "    if pred_anom>0:\n",
    "        typ=\"Positive Anomaly (Hot)\"\n",
    "    elif pred_anom<0:\n",
    "        typ=\"Negative Anomaly (Cool)\"\n",
    "    else:\n",
    "        typ=\"Standard Value\"\n",
    "    \n",
    "    data = {\"0)TOPIC(0)\":\"(The Historical Data Of Temperature Anomalies Of (\"+m+\") From 1880 To 2022)                                                                                                       \",\n",
    "           \"01)The Average Anomaly in (\"+m+\") is \":str(avg)+\"                                                                                                                             \",\n",
    "           \"02)The Number Of Standard Times in (\"+m+\") is \":str(num_standt)+\"                                                                                                                                   \",\n",
    "           \"03)The Maximum Positive (Hot) Anomaly in (\"+m+\") is \":str(max_post)+\"                                                                                                                         \",\n",
    "           \"04)The Number Of Times Of Positive (Hot) Anomaly in (\"+m+\") is \":str(num_post)+\"                                                                                                              \",\n",
    "           \"05)The Maximum Negative (Cool) Anomaly in (\"+m+\") is \":str(max_negt)+\"                                                                                                                        \",\n",
    "           \"06)The Number Of Times Of Negative (Cool) Anomaly in (\"+m+\") is \":str(num_negt)+\"                                                                                                             \",\n",
    "           '1)-----------------------------------------------------------------------------------------------------------------------------------------------------------------------------':\"  \",\n",
    "           \"1)TOPIC(1)\":\"The Prediction Of Temperature Anomaly Of (\"+m+\" \"+str(y)+\")                                                                                                                \",\n",
    "           \"11)The Prediction Temperature Anomaly is \":str(pred_anom)+\"                                                                                                                               \",\n",
    "           \"12)The Anomaly Type is \":typ+\"                                                                                                                                                  \"\n",
    "           }\n",
    "    return jsonify(data)\n",
    "app.run()"
   ]
  },
  {
   "cell_type": "code",
   "execution_count": null,
   "id": "f6bdd776",
   "metadata": {},
   "outputs": [],
   "source": []
  }
 ],
 "metadata": {
  "kernelspec": {
   "display_name": "Python 3 (ipykernel)",
   "language": "python",
   "name": "python3"
  },
  "language_info": {
   "codemirror_mode": {
    "name": "ipython",
    "version": 3
   },
   "file_extension": ".py",
   "mimetype": "text/x-python",
   "name": "python",
   "nbconvert_exporter": "python",
   "pygments_lexer": "ipython3",
   "version": "3.9.13"
  }
 },
 "nbformat": 4,
 "nbformat_minor": 5
}
